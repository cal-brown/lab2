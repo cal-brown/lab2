{
 "cells": [
  {
   "cell_type": "code",
   "execution_count": 19,
   "id": "99ce1f8e",
   "metadata": {},
   "outputs": [],
   "source": [
    "import numpy as np\n",
    "import pandas as pd\n",
    "from functools import reduce"
   ]
  },
  {
   "cell_type": "code",
   "execution_count": 20,
   "id": "21510bb5",
   "metadata": {},
   "outputs": [],
   "source": [
    "def powerset(iterable):\n",
    "    \"powerset([1,2,3]) --> () (1,) (2,) (3,) (1,2) (1,3) (2,3) (1,2,3)\"\n",
    "    s = list(iterable)\n",
    "    return chain.from_iterable(combinations(s, r) for r in range(len(s)+1))"
   ]
  },
  {
   "cell_type": "code",
   "execution_count": 2,
   "id": "22e7fcc1",
   "metadata": {},
   "outputs": [
    {
     "data": {
      "text/html": [
       "<div>\n",
       "<style scoped>\n",
       "    .dataframe tbody tr th:only-of-type {\n",
       "        vertical-align: middle;\n",
       "    }\n",
       "\n",
       "    .dataframe tbody tr th {\n",
       "        vertical-align: top;\n",
       "    }\n",
       "\n",
       "    .dataframe thead th {\n",
       "        text-align: right;\n",
       "    }\n",
       "</style>\n",
       "<table border=\"1\" class=\"dataframe\">\n",
       "  <thead>\n",
       "    <tr style=\"text-align: right;\">\n",
       "      <th></th>\n",
       "      <th>0</th>\n",
       "      <th>1</th>\n",
       "      <th>2</th>\n",
       "      <th>3</th>\n",
       "      <th>4</th>\n",
       "      <th>5</th>\n",
       "      <th>6</th>\n",
       "      <th>7</th>\n",
       "      <th>8</th>\n",
       "      <th>9</th>\n",
       "      <th>...</th>\n",
       "      <th>40</th>\n",
       "      <th>41</th>\n",
       "      <th>42</th>\n",
       "      <th>43</th>\n",
       "      <th>44</th>\n",
       "      <th>45</th>\n",
       "      <th>46</th>\n",
       "      <th>47</th>\n",
       "      <th>48</th>\n",
       "      <th>49</th>\n",
       "    </tr>\n",
       "  </thead>\n",
       "  <tbody>\n",
       "    <tr>\n",
       "      <th>1</th>\n",
       "      <td>0</td>\n",
       "      <td>0</td>\n",
       "      <td>0</td>\n",
       "      <td>0</td>\n",
       "      <td>1</td>\n",
       "      <td>1</td>\n",
       "      <td>1</td>\n",
       "      <td>0</td>\n",
       "      <td>0</td>\n",
       "      <td>0</td>\n",
       "      <td>...</td>\n",
       "      <td>0</td>\n",
       "      <td>0</td>\n",
       "      <td>0</td>\n",
       "      <td>0</td>\n",
       "      <td>0</td>\n",
       "      <td>0</td>\n",
       "      <td>0</td>\n",
       "      <td>0</td>\n",
       "      <td>0</td>\n",
       "      <td>0</td>\n",
       "    </tr>\n",
       "    <tr>\n",
       "      <th>2</th>\n",
       "      <td>0</td>\n",
       "      <td>1</td>\n",
       "      <td>0</td>\n",
       "      <td>0</td>\n",
       "      <td>0</td>\n",
       "      <td>0</td>\n",
       "      <td>0</td>\n",
       "      <td>0</td>\n",
       "      <td>0</td>\n",
       "      <td>0</td>\n",
       "      <td>...</td>\n",
       "      <td>0</td>\n",
       "      <td>0</td>\n",
       "      <td>0</td>\n",
       "      <td>0</td>\n",
       "      <td>0</td>\n",
       "      <td>0</td>\n",
       "      <td>1</td>\n",
       "      <td>1</td>\n",
       "      <td>0</td>\n",
       "      <td>0</td>\n",
       "    </tr>\n",
       "    <tr>\n",
       "      <th>3</th>\n",
       "      <td>0</td>\n",
       "      <td>0</td>\n",
       "      <td>0</td>\n",
       "      <td>0</td>\n",
       "      <td>0</td>\n",
       "      <td>0</td>\n",
       "      <td>0</td>\n",
       "      <td>0</td>\n",
       "      <td>0</td>\n",
       "      <td>0</td>\n",
       "      <td>...</td>\n",
       "      <td>0</td>\n",
       "      <td>0</td>\n",
       "      <td>0</td>\n",
       "      <td>0</td>\n",
       "      <td>0</td>\n",
       "      <td>0</td>\n",
       "      <td>0</td>\n",
       "      <td>0</td>\n",
       "      <td>0</td>\n",
       "      <td>0</td>\n",
       "    </tr>\n",
       "    <tr>\n",
       "      <th>4</th>\n",
       "      <td>0</td>\n",
       "      <td>0</td>\n",
       "      <td>0</td>\n",
       "      <td>0</td>\n",
       "      <td>0</td>\n",
       "      <td>0</td>\n",
       "      <td>0</td>\n",
       "      <td>0</td>\n",
       "      <td>0</td>\n",
       "      <td>0</td>\n",
       "      <td>...</td>\n",
       "      <td>0</td>\n",
       "      <td>0</td>\n",
       "      <td>0</td>\n",
       "      <td>0</td>\n",
       "      <td>0</td>\n",
       "      <td>0</td>\n",
       "      <td>0</td>\n",
       "      <td>0</td>\n",
       "      <td>0</td>\n",
       "      <td>0</td>\n",
       "    </tr>\n",
       "    <tr>\n",
       "      <th>5</th>\n",
       "      <td>0</td>\n",
       "      <td>0</td>\n",
       "      <td>0</td>\n",
       "      <td>0</td>\n",
       "      <td>0</td>\n",
       "      <td>0</td>\n",
       "      <td>0</td>\n",
       "      <td>0</td>\n",
       "      <td>0</td>\n",
       "      <td>0</td>\n",
       "      <td>...</td>\n",
       "      <td>0</td>\n",
       "      <td>0</td>\n",
       "      <td>0</td>\n",
       "      <td>0</td>\n",
       "      <td>0</td>\n",
       "      <td>0</td>\n",
       "      <td>0</td>\n",
       "      <td>0</td>\n",
       "      <td>0</td>\n",
       "      <td>0</td>\n",
       "    </tr>\n",
       "    <tr>\n",
       "      <th>...</th>\n",
       "      <td>...</td>\n",
       "      <td>...</td>\n",
       "      <td>...</td>\n",
       "      <td>...</td>\n",
       "      <td>...</td>\n",
       "      <td>...</td>\n",
       "      <td>...</td>\n",
       "      <td>...</td>\n",
       "      <td>...</td>\n",
       "      <td>...</td>\n",
       "      <td>...</td>\n",
       "      <td>...</td>\n",
       "      <td>...</td>\n",
       "      <td>...</td>\n",
       "      <td>...</td>\n",
       "      <td>...</td>\n",
       "      <td>...</td>\n",
       "      <td>...</td>\n",
       "      <td>...</td>\n",
       "      <td>...</td>\n",
       "      <td>...</td>\n",
       "    </tr>\n",
       "    <tr>\n",
       "      <th>4996</th>\n",
       "      <td>0</td>\n",
       "      <td>0</td>\n",
       "      <td>0</td>\n",
       "      <td>0</td>\n",
       "      <td>0</td>\n",
       "      <td>1</td>\n",
       "      <td>0</td>\n",
       "      <td>0</td>\n",
       "      <td>0</td>\n",
       "      <td>0</td>\n",
       "      <td>...</td>\n",
       "      <td>0</td>\n",
       "      <td>0</td>\n",
       "      <td>0</td>\n",
       "      <td>0</td>\n",
       "      <td>0</td>\n",
       "      <td>0</td>\n",
       "      <td>0</td>\n",
       "      <td>0</td>\n",
       "      <td>0</td>\n",
       "      <td>0</td>\n",
       "    </tr>\n",
       "    <tr>\n",
       "      <th>4997</th>\n",
       "      <td>1</td>\n",
       "      <td>0</td>\n",
       "      <td>1</td>\n",
       "      <td>0</td>\n",
       "      <td>0</td>\n",
       "      <td>0</td>\n",
       "      <td>1</td>\n",
       "      <td>0</td>\n",
       "      <td>0</td>\n",
       "      <td>0</td>\n",
       "      <td>...</td>\n",
       "      <td>0</td>\n",
       "      <td>0</td>\n",
       "      <td>0</td>\n",
       "      <td>0</td>\n",
       "      <td>0</td>\n",
       "      <td>1</td>\n",
       "      <td>1</td>\n",
       "      <td>0</td>\n",
       "      <td>0</td>\n",
       "      <td>0</td>\n",
       "    </tr>\n",
       "    <tr>\n",
       "      <th>4998</th>\n",
       "      <td>0</td>\n",
       "      <td>0</td>\n",
       "      <td>0</td>\n",
       "      <td>0</td>\n",
       "      <td>0</td>\n",
       "      <td>0</td>\n",
       "      <td>0</td>\n",
       "      <td>1</td>\n",
       "      <td>0</td>\n",
       "      <td>0</td>\n",
       "      <td>...</td>\n",
       "      <td>0</td>\n",
       "      <td>0</td>\n",
       "      <td>0</td>\n",
       "      <td>0</td>\n",
       "      <td>0</td>\n",
       "      <td>0</td>\n",
       "      <td>0</td>\n",
       "      <td>0</td>\n",
       "      <td>0</td>\n",
       "      <td>1</td>\n",
       "    </tr>\n",
       "    <tr>\n",
       "      <th>4999</th>\n",
       "      <td>0</td>\n",
       "      <td>0</td>\n",
       "      <td>0</td>\n",
       "      <td>0</td>\n",
       "      <td>0</td>\n",
       "      <td>0</td>\n",
       "      <td>0</td>\n",
       "      <td>0</td>\n",
       "      <td>0</td>\n",
       "      <td>0</td>\n",
       "      <td>...</td>\n",
       "      <td>0</td>\n",
       "      <td>0</td>\n",
       "      <td>0</td>\n",
       "      <td>0</td>\n",
       "      <td>0</td>\n",
       "      <td>0</td>\n",
       "      <td>0</td>\n",
       "      <td>0</td>\n",
       "      <td>1</td>\n",
       "      <td>0</td>\n",
       "    </tr>\n",
       "    <tr>\n",
       "      <th>5000</th>\n",
       "      <td>0</td>\n",
       "      <td>0</td>\n",
       "      <td>0</td>\n",
       "      <td>0</td>\n",
       "      <td>0</td>\n",
       "      <td>0</td>\n",
       "      <td>0</td>\n",
       "      <td>0</td>\n",
       "      <td>0</td>\n",
       "      <td>0</td>\n",
       "      <td>...</td>\n",
       "      <td>0</td>\n",
       "      <td>0</td>\n",
       "      <td>0</td>\n",
       "      <td>0</td>\n",
       "      <td>1</td>\n",
       "      <td>1</td>\n",
       "      <td>0</td>\n",
       "      <td>0</td>\n",
       "      <td>0</td>\n",
       "      <td>0</td>\n",
       "    </tr>\n",
       "  </tbody>\n",
       "</table>\n",
       "<p>5000 rows × 50 columns</p>\n",
       "</div>"
      ],
      "text/plain": [
       "      0   1   2   3   4   5   6   7   8   9   ...  40  41  42  43  44  45  46  \\\n",
       "1      0   0   0   0   1   1   1   0   0   0  ...   0   0   0   0   0   0   0   \n",
       "2      0   1   0   0   0   0   0   0   0   0  ...   0   0   0   0   0   0   1   \n",
       "3      0   0   0   0   0   0   0   0   0   0  ...   0   0   0   0   0   0   0   \n",
       "4      0   0   0   0   0   0   0   0   0   0  ...   0   0   0   0   0   0   0   \n",
       "5      0   0   0   0   0   0   0   0   0   0  ...   0   0   0   0   0   0   0   \n",
       "...   ..  ..  ..  ..  ..  ..  ..  ..  ..  ..  ...  ..  ..  ..  ..  ..  ..  ..   \n",
       "4996   0   0   0   0   0   1   0   0   0   0  ...   0   0   0   0   0   0   0   \n",
       "4997   1   0   1   0   0   0   1   0   0   0  ...   0   0   0   0   0   1   1   \n",
       "4998   0   0   0   0   0   0   0   1   0   0  ...   0   0   0   0   0   0   0   \n",
       "4999   0   0   0   0   0   0   0   0   0   0  ...   0   0   0   0   0   0   0   \n",
       "5000   0   0   0   0   0   0   0   0   0   0  ...   0   0   0   0   1   1   0   \n",
       "\n",
       "      47  48  49  \n",
       "1      0   0   0  \n",
       "2      1   0   0  \n",
       "3      0   0   0  \n",
       "4      0   0   0  \n",
       "5      0   0   0  \n",
       "...   ..  ..  ..  \n",
       "4996   0   0   0  \n",
       "4997   0   0   0  \n",
       "4998   0   0   1  \n",
       "4999   0   1   0  \n",
       "5000   0   0   0  \n",
       "\n",
       "[5000 rows x 50 columns]"
      ]
     },
     "execution_count": 2,
     "metadata": {},
     "output_type": "execute_result"
    }
   ],
   "source": [
    "bakery = pd.read_csv(\"5000-out2.csv\", names=np.arange(50))\n",
    "bakery"
   ]
  },
  {
   "cell_type": "code",
   "execution_count": 50,
   "id": "2e83769f",
   "metadata": {},
   "outputs": [
    {
     "data": {
      "text/plain": [
       "1"
      ]
     },
     "execution_count": 50,
     "metadata": {},
     "output_type": "execute_result"
    }
   ],
   "source": [
    "sum(bakery[0] & bakery[1] & bakery[2] & bakery[3])"
   ]
  },
  {
   "cell_type": "code",
   "execution_count": 13,
   "id": "4c06179f",
   "metadata": {},
   "outputs": [],
   "source": [
    "#sum(bakery[0])\n",
    "support = np.array([sum(bakery[i]) for i in bakery.columns])\n",
    "rsupport = support/len(bakery[0])"
   ]
  },
  {
   "cell_type": "code",
   "execution_count": 14,
   "id": "04dac21f",
   "metadata": {},
   "outputs": [
    {
     "data": {
      "text/plain": [
       "array([399, 425, 373, 418, 480, 438, 191, 554, 230, 409, 193, 391, 367,\n",
       "       211, 391, 380, 426, 381, 460, 354, 222, 194, 477, 320, 321, 226,\n",
       "       199, 418, 499, 353, 228, 371, 411, 385, 216, 446, 391, 407, 214,\n",
       "       200, 324, 339, 461, 310, 386, 513, 404, 367, 335, 327])"
      ]
     },
     "execution_count": 14,
     "metadata": {},
     "output_type": "execute_result"
    }
   ],
   "source": [
    "support"
   ]
  },
  {
   "cell_type": "code",
   "execution_count": 15,
   "id": "eade89d5",
   "metadata": {},
   "outputs": [
    {
     "data": {
      "text/plain": [
       "array([0.0798, 0.085 , 0.0746, 0.0836, 0.096 , 0.0876, 0.0382, 0.1108,\n",
       "       0.046 , 0.0818, 0.0386, 0.0782, 0.0734, 0.0422, 0.0782, 0.076 ,\n",
       "       0.0852, 0.0762, 0.092 , 0.0708, 0.0444, 0.0388, 0.0954, 0.064 ,\n",
       "       0.0642, 0.0452, 0.0398, 0.0836, 0.0998, 0.0706, 0.0456, 0.0742,\n",
       "       0.0822, 0.077 , 0.0432, 0.0892, 0.0782, 0.0814, 0.0428, 0.04  ,\n",
       "       0.0648, 0.0678, 0.0922, 0.062 , 0.0772, 0.1026, 0.0808, 0.0734,\n",
       "       0.067 , 0.0654])"
      ]
     },
     "execution_count": 15,
     "metadata": {},
     "output_type": "execute_result"
    }
   ],
   "source": [
    "rsupport"
   ]
  },
  {
   "cell_type": "code",
   "execution_count": 37,
   "id": "cfbbd47b",
   "metadata": {},
   "outputs": [],
   "source": [
    "def supports_vectorized(itemsets, matrix, minSup=0):\n",
    "    supports_dict = {iset: 0 for iset in itemsets}\n",
    "    for iset in itemsets:\n",
    "        supports_dict[iset] = sum(reduce((lambda x,y: x&y), [matrix[item] for item in iset])):\n",
    "    rm_list = []\n",
    "    for iset in supports_dict.keys():\n",
    "        if supports_dict[iset] < minSup:\n",
    "            rm_list.append(iset)\n",
    "    for iset in rm_list:\n",
    "        supports_dict.pop(iset)\n",
    "    return supports_dict\n",
    "    #occurence_col = matrix[itemset[0]]\n",
    "    #for i in range(1, len(itemset)):\n",
    "    #    occurence_col = occurence_col & matrix[itemset[i]]\n",
    "    #return sum(occurence_col)"
   ]
  },
  {
   "cell_type": "code",
   "execution_count": 41,
   "id": "956d95a0",
   "metadata": {},
   "outputs": [],
   "source": [
    "def supports(itemsets, matrix, minSup=0):\n",
    "    supports_dict = {iset: 0 for iset in itemsets}\n",
    "    for idx in matrix.index:\n",
    "        for iset in itemsets:\n",
    "            row = matrix.loc[idx]\n",
    "            if reduce((lambda x,y: x&y), [row[item] for item in iset]) == 1:\n",
    "                supports_dict[iset] += 1\n",
    "    rm_list = []\n",
    "    for iset in supports_dict.keys():\n",
    "        if supports_dict[iset] < minSup:\n",
    "            rm_list.append(iset)\n",
    "    for iset in rm_list:\n",
    "        supports_dict.pop(iset)\n",
    "    return supports_dict"
   ]
  },
  {
   "cell_type": "code",
   "execution_count": 39,
   "id": "23212997",
   "metadata": {},
   "outputs": [
    {
     "data": {
      "text/plain": [
       "{(0, 1, 2, 3): 1, (0,): 399, (1,): 425, (0, 1): 15, (0, 1, 2): 4, (0, 2): 171}"
      ]
     },
     "execution_count": 39,
     "metadata": {},
     "output_type": "execute_result"
    }
   ],
   "source": [
    "supports([(0,1,2,3), (0,), (1,), (0,1), (0,1,2), (0,2)], bakery)"
   ]
  },
  {
   "cell_type": "code",
   "execution_count": 88,
   "id": "8b5454aa",
   "metadata": {},
   "outputs": [],
   "source": [
    "def candidate_gen(tuple_list):\n",
    "    C = []\n",
    "    for t1 in tuple_list:\n",
    "        for t2 in tuple_list:\n",
    "            f1 = set(t1)\n",
    "            f2 = set(t2)\n",
    "            if len(f1.union(f2)) == len(f1) + 1:\n",
    "                c = f1.union(f2)\n",
    "                flag = True\n",
    "                for subset in powerset_one_less(c):\n",
    "                    if subset != t1 and subset != t2 and tuple(subset) not in tuple_list:\n",
    "                        flag = False\n",
    "                if flag and c not in C:\n",
    "                    C.append(c)\n",
    "    \n",
    "    return [tuple(c) for c in C]"
   ]
  },
  {
   "cell_type": "code",
   "execution_count": 64,
   "id": "98b671c1",
   "metadata": {},
   "outputs": [
    {
     "ename": "SyntaxError",
     "evalue": "unexpected EOF while parsing (<ipython-input-64-a6dd6a960704>, line 6)",
     "output_type": "error",
     "traceback": [
      "\u001b[0;36m  File \u001b[0;32m\"<ipython-input-64-a6dd6a960704>\"\u001b[0;36m, line \u001b[0;32m6\u001b[0m\n\u001b[0;31m    \u001b[0m\n\u001b[0m    ^\u001b[0m\n\u001b[0;31mSyntaxError\u001b[0m\u001b[0;31m:\u001b[0m unexpected EOF while parsing\n"
     ]
    }
   ],
   "source": [
    "def apriori(matrix, total_itemset, minSup):\n",
    "    all_supports_dict = {}\n",
    "    level_1 = supports([(i,) for i in total_itemset], matrix)\n",
    "    k = 2\n",
    "    while(k <= len(total_itemset) and len(all_supports_dict[k-1].values()) > 0):\n",
    "        "
   ]
  },
  {
   "cell_type": "code",
   "execution_count": 90,
   "id": "5fda05d7",
   "metadata": {},
   "outputs": [
    {
     "data": {
      "text/plain": [
       "{(0,): 399,\n",
       " (1,): 425,\n",
       " (2,): 373,\n",
       " (3,): 418,\n",
       " (4,): 480,\n",
       " (5,): 438,\n",
       " (6,): 191,\n",
       " (7,): 554,\n",
       " (8,): 230,\n",
       " (9,): 409,\n",
       " (10,): 193,\n",
       " (11,): 391,\n",
       " (12,): 367,\n",
       " (13,): 211,\n",
       " (14,): 391,\n",
       " (15,): 380,\n",
       " (16,): 426,\n",
       " (17,): 381,\n",
       " (18,): 460,\n",
       " (19,): 354,\n",
       " (20,): 222,\n",
       " (21,): 194,\n",
       " (22,): 477,\n",
       " (23,): 320,\n",
       " (24,): 321,\n",
       " (25,): 226,\n",
       " (26,): 199,\n",
       " (27,): 418,\n",
       " (28,): 499,\n",
       " (29,): 353,\n",
       " (30,): 228,\n",
       " (31,): 371,\n",
       " (32,): 411,\n",
       " (33,): 385,\n",
       " (34,): 216,\n",
       " (35,): 446,\n",
       " (36,): 391,\n",
       " (37,): 407,\n",
       " (38,): 214,\n",
       " (39,): 200,\n",
       " (40,): 324,\n",
       " (41,): 339,\n",
       " (42,): 461,\n",
       " (43,): 310,\n",
       " (44,): 386,\n",
       " (45,): 513,\n",
       " (46,): 404,\n",
       " (47,): 367,\n",
       " (48,): 335,\n",
       " (49,): 327}"
      ]
     },
     "execution_count": 90,
     "metadata": {},
     "output_type": "execute_result"
    }
   ],
   "source": [
    "x = supports([(i,) for i in range(50)], bakery, 100)\n",
    "x"
   ]
  },
  {
   "cell_type": "code",
   "execution_count": 81,
   "id": "ac65380b",
   "metadata": {},
   "outputs": [
    {
     "data": {
      "text/plain": [
       "{(18, 3): 436,\n",
       " (35, 3): 216,\n",
       " (9, 4): 422,\n",
       " (5, 22): 472,\n",
       " (37, 7): 412,\n",
       " (45, 7): 338,\n",
       " (16, 32): 220,\n",
       " (16, 45): 350,\n",
       " (18, 35): 512,\n",
       " (27, 28): 496,\n",
       " (32, 16): 220,\n",
       " (32, 45): 348,\n",
       " (3, 35): 216,\n",
       " (45, 37): 168,\n",
       " (37, 45): 168}"
      ]
     },
     "execution_count": 81,
     "metadata": {},
     "output_type": "execute_result"
    }
   ],
   "source": [
    "y = candidate_gen(x.keys())\n",
    "z = supports(y, bakery, 100)\n",
    "z"
   ]
  },
  {
   "cell_type": "code",
   "execution_count": 89,
   "id": "98dfad9a",
   "metadata": {},
   "outputs": [
    {
     "data": {
      "text/plain": [
       "{(35, 18, 3): 204, (45, 37, 7): 154, (16, 32, 45): 164}"
      ]
     },
     "execution_count": 89,
     "metadata": {},
     "output_type": "execute_result"
    }
   ],
   "source": [
    "supports(candidate_gen(z), bakery, 100)"
   ]
  },
  {
   "cell_type": "code",
   "execution_count": 31,
   "id": "08143f94",
   "metadata": {},
   "outputs": [],
   "source": [
    "def powerset_one_less(iterable):\n",
    "    sets = []\n",
    "    s = list(iterable)\n",
    "    for i in range(len(iterable)):\n",
    "        sets.append(set(s[0:i]+s[i+1:]))\n",
    "    return sets"
   ]
  },
  {
   "cell_type": "code",
   "execution_count": 75,
   "id": "118298ee",
   "metadata": {},
   "outputs": [
    {
     "data": {
      "text/plain": [
       "(3, 5)"
      ]
     },
     "execution_count": 75,
     "metadata": {},
     "output_type": "execute_result"
    }
   ],
   "source": [
    "tuple({5,3})"
   ]
  },
  {
   "cell_type": "code",
   "execution_count": null,
   "id": "63a836c6",
   "metadata": {},
   "outputs": [],
   "source": [
    "y"
   ]
  }
 ],
 "metadata": {
  "kernelspec": {
   "display_name": "Python 3",
   "language": "python",
   "name": "python3"
  },
  "language_info": {
   "codemirror_mode": {
    "name": "ipython",
    "version": 3
   },
   "file_extension": ".py",
   "mimetype": "text/x-python",
   "name": "python",
   "nbconvert_exporter": "python",
   "pygments_lexer": "ipython3",
   "version": "3.8.8"
  }
 },
 "nbformat": 4,
 "nbformat_minor": 5
}
